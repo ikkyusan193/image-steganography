{
  "cells": [
    {
      "cell_type": "code",
      "execution_count": null,
      "metadata": {
        "id": "Tx7vODYt5FWW"
      },
      "outputs": [],
      "source": [
        "## all the imports\n",
        "import numpy as np ##math stuff\n",
        "import types \n",
        "import cv2 ##open cv to read pictures\n",
        "import matplotlib.pyplot as plt\n",
        "delimiter = \"#!#!#!\""
      ]
    },
    {
      "cell_type": "code",
      "execution_count": null,
      "metadata": {
        "id": "wcVSpB1P5FWY"
      },
      "outputs": [],
      "source": [
        "#function to convert INPUTS(Str,Bytes,Int) and turns it into binary\n",
        "def message2binary(text): \n",
        "    if type(text)==str:\n",
        "        return ''.join([format(ord(i), \"08b\") for i in text]) ## return Unicode character. ##print(ord('5')) == 53\n",
        "    elif type(text) == bytes or type(text) == np.ndarray: ## ndarray = n-dimensional-array since picture can return rgb values\n",
        "        return [format(i, \"08b\") for i in text]\n",
        "    elif type(text) == int or type(text) == np.unit8: #unit 8 = int(-128-> 127)\n",
        "        return format(text, \"08b\")\n",
        "    else:\n",
        "        raise TypeError(\"Input does not support :<\")        \n",
        "              \n",
        "        \n",
        "#message2binary(\"okay\") == '01101111011010110110000101111001'       \n",
        "#message2binary(8)  == '00001000'\n",
        "\n",
        "###########################################################################################################################\n",
        "#function to store message by changing the Least Significant Bits or RGB/pixel\n",
        "def hiding(image,text):\n",
        "    #the floor division // rounds the result down to the nearest whole number\n",
        "    max_byte = image.shape[0] * image.shape[1] * 3 // 8  # *3 cuz of R G B\n",
        "    #print(\"Total bytes to encode:\", max_byte)\n",
        "    \n",
        "    if len(text) > max_byte:\n",
        "        raise ValueError(\"Insufficient bytes, need bigger picture!\")\n",
        "    \n",
        "    text += delimiter ##added to the end to text, to check if we reach the end, used as delimeter\n",
        "    \n",
        "    index = 0\n",
        "    binary_text = message2binary(text)\n",
        "    binary_text_len = len(binary_text)\n",
        "    \n",
        "    for values in image:\n",
        "        for pixel in values:\n",
        "            r, g, b = message2binary(pixel)\n",
        "            \n",
        "            if index < binary_text_len: #change least significant bit to store data\n",
        "                pixel[0] = int(r[:-1] + binary_text[index], 2) #change lsb in red pixel #base 2 number cuz binary\n",
        "                index += 1\n",
        "            if index < binary_text_len: \n",
        "                pixel[1] = int(g[:-1] + binary_text[index], 2)\n",
        "                index += 1\n",
        "            if index < binary_text_len:\n",
        "                pixel[2] = int(b[:-1] + binary_text[index], 2)\n",
        "                index += 1\n",
        "            \n",
        "            if index >= binary_text_len:\n",
        "                break\n",
        "                \n",
        "    return image\n",
        "###########################################################################################################################\n",
        "#function to decode the message store inside the pictures\n",
        "def reveal(image):\n",
        "    \n",
        "    binary_data = \"\"\n",
        "    for values in image:\n",
        "        for pixel in values:\n",
        "            r, g, b = message2binary(pixel)\n",
        "            binary_data += r[-1]\n",
        "            binary_data += g[-1] ##retrieving LSB of pixels\n",
        "            binary_data += b[-1]\n",
        "    \n",
        "    all_bytes = [ binary_data[i: i+8] for i in range(0,len(binary_data),8) ] #split and go by 8 bits\n",
        "\n",
        "    decoded_text = \"\"\n",
        "    count = 0\n",
        "    for byte in all_bytes:\n",
        "        decoded_text += chr(int(byte, 2))\n",
        "        count += 1\n",
        "        if decoded_text[-(len(delimiter)):] == delimiter:\n",
        "            break\n",
        "    return decoded_text[:-(len(delimiter))]\n",
        "###########################################################################################################################\n",
        "def Encode():\n",
        "    image_name = input(\"Enter the filename(with extension): \")\n",
        "    image = cv2.imread(image_name)\n",
        "    \n",
        "    text = input(\"Enter text to hide: \")\n",
        "    if (len(text) == 0):\n",
        "        raise ValueErrorr('Null, text is empty')\n",
        "        \n",
        "    filename = input(\"Enter the name of new encoded img(with extension): \")\n",
        "    encoded_image = hiding(image,text)\n",
        "    cv2.imwrite(filename,encoded_image)\n",
        "    \n",
        "###########################################################################################################################\n",
        "def Decode():\n",
        "    image_name = input(\"Enter the filename(with extension): \")\n",
        "    image = cv2.imread(image_name)\n",
        "    \n",
        "    text = reveal(image)\n",
        "    return text\n",
        "\n",
        "########################################################################################################################"
      ]
    },
    {
      "cell_type": "code",
      "execution_count": null,
      "metadata": {
        "id": "rT9FmmMV5FWa"
      },
      "outputs": [],
      "source": [
        "def Steganography(): ##takes in userinput\n",
        "    user_input = input(\"Using image Steganography 1. Encode \\n 2. Decode \\n Please type in the input: \")\n",
        "    result = int(user_input)\n",
        "    if (result == 1):\n",
        "        print(\"\\nEncoding\")\n",
        "        Encode()\n",
        "    elif (result == 2):\n",
        "        print(\"\\nDecoding\")\n",
        "        print(\"We've decoded the message:\", Decode())\n",
        "    else:\n",
        "        print(\"Incorrect input please type in 1 for Encode and 2 for Decode\")"
      ]
    },
    {
      "cell_type": "code",
      "execution_count": null,
      "metadata": {
        "id": "Ve3siGij5FWb",
        "outputId": "e413a884-4572-460c-fb40-a3d1840b87b7"
      },
      "outputs": [
        {
          "name": "stdout",
          "output_type": "stream",
          "text": [
            "Using image Steganography 1. Encode \n",
            " 2. Decode \n",
            " Please type in the input: 1\n",
            "\n",
            "Encoding\n",
            "Enter the filename(with extension): conan.png\n",
            "Enter text to hide: helllooo\n",
            "Enter the name of new encoded img(with extension): hide.png\n"
          ]
        }
      ],
      "source": [
        "Steganography()"
      ]
    },
    {
      "cell_type": "code",
      "execution_count": null,
      "metadata": {
        "id": "KiLUJ_nl5FWc"
      },
      "outputs": [],
      "source": [
        "Steganography()"
      ]
    }
  ],
  "metadata": {
    "kernelspec": {
      "display_name": "Python 3",
      "language": "python",
      "name": "python3"
    },
    "language_info": {
      "codemirror_mode": {
        "name": "ipython",
        "version": 3
      },
      "file_extension": ".py",
      "mimetype": "text/x-python",
      "name": "python",
      "nbconvert_exporter": "python",
      "pygments_lexer": "ipython3",
      "version": "3.7.3"
    },
    "colab": {
      "name": "steganography.ipynb",
      "provenance": []
    }
  },
  "nbformat": 4,
  "nbformat_minor": 0
}